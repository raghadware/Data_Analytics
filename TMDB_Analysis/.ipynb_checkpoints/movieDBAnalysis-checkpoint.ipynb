{
 "cells": [
  {
   "cell_type": "markdown",
   "id": "41cf1372",
   "metadata": {},
   "source": [
    "<h1>TMDB Movies data set analysis</h1>\n",
    "\n",
    "In this notebook i'll be going through Movies data set\n",
    "\n",
    "<h1>Step1: Gathering Data</h1>\n",
    "\n",
    "downloaded the data `tmdb-movies.csv` from <a href='https://d17h27t6h515a5.cloudfront.net/topher/2017/October/59dd1c4c_tmdb-movies/tmdb-movies.csv'>Kaggle</a>\n",
    "\n",
    "reading the data set into pandas data frame :\n"
   ]
  },
  {
   "cell_type": "code",
   "execution_count": 1,
   "id": "e284e954",
   "metadata": {
    "scrolled": true
   },
   "outputs": [
    {
     "data": {
      "text/html": [
       "<div>\n",
       "<style scoped>\n",
       "    .dataframe tbody tr th:only-of-type {\n",
       "        vertical-align: middle;\n",
       "    }\n",
       "\n",
       "    .dataframe tbody tr th {\n",
       "        vertical-align: top;\n",
       "    }\n",
       "\n",
       "    .dataframe thead th {\n",
       "        text-align: right;\n",
       "    }\n",
       "</style>\n",
       "<table border=\"1\" class=\"dataframe\">\n",
       "  <thead>\n",
       "    <tr style=\"text-align: right;\">\n",
       "      <th></th>\n",
       "      <th>id</th>\n",
       "      <th>imdb_id</th>\n",
       "      <th>popularity</th>\n",
       "      <th>budget</th>\n",
       "      <th>revenue</th>\n",
       "      <th>original_title</th>\n",
       "      <th>cast</th>\n",
       "      <th>homepage</th>\n",
       "      <th>director</th>\n",
       "      <th>tagline</th>\n",
       "      <th>...</th>\n",
       "      <th>overview</th>\n",
       "      <th>runtime</th>\n",
       "      <th>genres</th>\n",
       "      <th>production_companies</th>\n",
       "      <th>release_date</th>\n",
       "      <th>vote_count</th>\n",
       "      <th>vote_average</th>\n",
       "      <th>release_year</th>\n",
       "      <th>budget_adj</th>\n",
       "      <th>revenue_adj</th>\n",
       "    </tr>\n",
       "  </thead>\n",
       "  <tbody>\n",
       "    <tr>\n",
       "      <th>0</th>\n",
       "      <td>135397</td>\n",
       "      <td>tt0369610</td>\n",
       "      <td>32.985763</td>\n",
       "      <td>150000000</td>\n",
       "      <td>1513528810</td>\n",
       "      <td>Jurassic World</td>\n",
       "      <td>Chris Pratt|Bryce Dallas Howard|Irrfan Khan|Vi...</td>\n",
       "      <td>http://www.jurassicworld.com/</td>\n",
       "      <td>Colin Trevorrow</td>\n",
       "      <td>The park is open.</td>\n",
       "      <td>...</td>\n",
       "      <td>Twenty-two years after the events of Jurassic ...</td>\n",
       "      <td>124</td>\n",
       "      <td>Action|Adventure|Science Fiction|Thriller</td>\n",
       "      <td>Universal Studios|Amblin Entertainment|Legenda...</td>\n",
       "      <td>6/9/15</td>\n",
       "      <td>5562</td>\n",
       "      <td>6.5</td>\n",
       "      <td>2015</td>\n",
       "      <td>1.379999e+08</td>\n",
       "      <td>1.392446e+09</td>\n",
       "    </tr>\n",
       "    <tr>\n",
       "      <th>1</th>\n",
       "      <td>76341</td>\n",
       "      <td>tt1392190</td>\n",
       "      <td>28.419936</td>\n",
       "      <td>150000000</td>\n",
       "      <td>378436354</td>\n",
       "      <td>Mad Max: Fury Road</td>\n",
       "      <td>Tom Hardy|Charlize Theron|Hugh Keays-Byrne|Nic...</td>\n",
       "      <td>http://www.madmaxmovie.com/</td>\n",
       "      <td>George Miller</td>\n",
       "      <td>What a Lovely Day.</td>\n",
       "      <td>...</td>\n",
       "      <td>An apocalyptic story set in the furthest reach...</td>\n",
       "      <td>120</td>\n",
       "      <td>Action|Adventure|Science Fiction|Thriller</td>\n",
       "      <td>Village Roadshow Pictures|Kennedy Miller Produ...</td>\n",
       "      <td>5/13/15</td>\n",
       "      <td>6185</td>\n",
       "      <td>7.1</td>\n",
       "      <td>2015</td>\n",
       "      <td>1.379999e+08</td>\n",
       "      <td>3.481613e+08</td>\n",
       "    </tr>\n",
       "    <tr>\n",
       "      <th>2</th>\n",
       "      <td>262500</td>\n",
       "      <td>tt2908446</td>\n",
       "      <td>13.112507</td>\n",
       "      <td>110000000</td>\n",
       "      <td>295238201</td>\n",
       "      <td>Insurgent</td>\n",
       "      <td>Shailene Woodley|Theo James|Kate Winslet|Ansel...</td>\n",
       "      <td>http://www.thedivergentseries.movie/#insurgent</td>\n",
       "      <td>Robert Schwentke</td>\n",
       "      <td>One Choice Can Destroy You</td>\n",
       "      <td>...</td>\n",
       "      <td>Beatrice Prior must confront her inner demons ...</td>\n",
       "      <td>119</td>\n",
       "      <td>Adventure|Science Fiction|Thriller</td>\n",
       "      <td>Summit Entertainment|Mandeville Films|Red Wago...</td>\n",
       "      <td>3/18/15</td>\n",
       "      <td>2480</td>\n",
       "      <td>6.3</td>\n",
       "      <td>2015</td>\n",
       "      <td>1.012000e+08</td>\n",
       "      <td>2.716190e+08</td>\n",
       "    </tr>\n",
       "    <tr>\n",
       "      <th>3</th>\n",
       "      <td>140607</td>\n",
       "      <td>tt2488496</td>\n",
       "      <td>11.173104</td>\n",
       "      <td>200000000</td>\n",
       "      <td>2068178225</td>\n",
       "      <td>Star Wars: The Force Awakens</td>\n",
       "      <td>Harrison Ford|Mark Hamill|Carrie Fisher|Adam D...</td>\n",
       "      <td>http://www.starwars.com/films/star-wars-episod...</td>\n",
       "      <td>J.J. Abrams</td>\n",
       "      <td>Every generation has a story.</td>\n",
       "      <td>...</td>\n",
       "      <td>Thirty years after defeating the Galactic Empi...</td>\n",
       "      <td>136</td>\n",
       "      <td>Action|Adventure|Science Fiction|Fantasy</td>\n",
       "      <td>Lucasfilm|Truenorth Productions|Bad Robot</td>\n",
       "      <td>12/15/15</td>\n",
       "      <td>5292</td>\n",
       "      <td>7.5</td>\n",
       "      <td>2015</td>\n",
       "      <td>1.839999e+08</td>\n",
       "      <td>1.902723e+09</td>\n",
       "    </tr>\n",
       "    <tr>\n",
       "      <th>4</th>\n",
       "      <td>168259</td>\n",
       "      <td>tt2820852</td>\n",
       "      <td>9.335014</td>\n",
       "      <td>190000000</td>\n",
       "      <td>1506249360</td>\n",
       "      <td>Furious 7</td>\n",
       "      <td>Vin Diesel|Paul Walker|Jason Statham|Michelle ...</td>\n",
       "      <td>http://www.furious7.com/</td>\n",
       "      <td>James Wan</td>\n",
       "      <td>Vengeance Hits Home</td>\n",
       "      <td>...</td>\n",
       "      <td>Deckard Shaw seeks revenge against Dominic Tor...</td>\n",
       "      <td>137</td>\n",
       "      <td>Action|Crime|Thriller</td>\n",
       "      <td>Universal Pictures|Original Film|Media Rights ...</td>\n",
       "      <td>4/1/15</td>\n",
       "      <td>2947</td>\n",
       "      <td>7.3</td>\n",
       "      <td>2015</td>\n",
       "      <td>1.747999e+08</td>\n",
       "      <td>1.385749e+09</td>\n",
       "    </tr>\n",
       "  </tbody>\n",
       "</table>\n",
       "<p>5 rows × 21 columns</p>\n",
       "</div>"
      ],
      "text/plain": [
       "       id    imdb_id  popularity     budget     revenue  \\\n",
       "0  135397  tt0369610   32.985763  150000000  1513528810   \n",
       "1   76341  tt1392190   28.419936  150000000   378436354   \n",
       "2  262500  tt2908446   13.112507  110000000   295238201   \n",
       "3  140607  tt2488496   11.173104  200000000  2068178225   \n",
       "4  168259  tt2820852    9.335014  190000000  1506249360   \n",
       "\n",
       "                 original_title  \\\n",
       "0                Jurassic World   \n",
       "1            Mad Max: Fury Road   \n",
       "2                     Insurgent   \n",
       "3  Star Wars: The Force Awakens   \n",
       "4                     Furious 7   \n",
       "\n",
       "                                                cast  \\\n",
       "0  Chris Pratt|Bryce Dallas Howard|Irrfan Khan|Vi...   \n",
       "1  Tom Hardy|Charlize Theron|Hugh Keays-Byrne|Nic...   \n",
       "2  Shailene Woodley|Theo James|Kate Winslet|Ansel...   \n",
       "3  Harrison Ford|Mark Hamill|Carrie Fisher|Adam D...   \n",
       "4  Vin Diesel|Paul Walker|Jason Statham|Michelle ...   \n",
       "\n",
       "                                            homepage          director  \\\n",
       "0                      http://www.jurassicworld.com/   Colin Trevorrow   \n",
       "1                        http://www.madmaxmovie.com/     George Miller   \n",
       "2     http://www.thedivergentseries.movie/#insurgent  Robert Schwentke   \n",
       "3  http://www.starwars.com/films/star-wars-episod...       J.J. Abrams   \n",
       "4                           http://www.furious7.com/         James Wan   \n",
       "\n",
       "                         tagline  ...  \\\n",
       "0              The park is open.  ...   \n",
       "1             What a Lovely Day.  ...   \n",
       "2     One Choice Can Destroy You  ...   \n",
       "3  Every generation has a story.  ...   \n",
       "4            Vengeance Hits Home  ...   \n",
       "\n",
       "                                            overview runtime  \\\n",
       "0  Twenty-two years after the events of Jurassic ...     124   \n",
       "1  An apocalyptic story set in the furthest reach...     120   \n",
       "2  Beatrice Prior must confront her inner demons ...     119   \n",
       "3  Thirty years after defeating the Galactic Empi...     136   \n",
       "4  Deckard Shaw seeks revenge against Dominic Tor...     137   \n",
       "\n",
       "                                      genres  \\\n",
       "0  Action|Adventure|Science Fiction|Thriller   \n",
       "1  Action|Adventure|Science Fiction|Thriller   \n",
       "2         Adventure|Science Fiction|Thriller   \n",
       "3   Action|Adventure|Science Fiction|Fantasy   \n",
       "4                      Action|Crime|Thriller   \n",
       "\n",
       "                                production_companies release_date vote_count  \\\n",
       "0  Universal Studios|Amblin Entertainment|Legenda...       6/9/15       5562   \n",
       "1  Village Roadshow Pictures|Kennedy Miller Produ...      5/13/15       6185   \n",
       "2  Summit Entertainment|Mandeville Films|Red Wago...      3/18/15       2480   \n",
       "3          Lucasfilm|Truenorth Productions|Bad Robot     12/15/15       5292   \n",
       "4  Universal Pictures|Original Film|Media Rights ...       4/1/15       2947   \n",
       "\n",
       "   vote_average  release_year    budget_adj   revenue_adj  \n",
       "0           6.5          2015  1.379999e+08  1.392446e+09  \n",
       "1           7.1          2015  1.379999e+08  3.481613e+08  \n",
       "2           6.3          2015  1.012000e+08  2.716190e+08  \n",
       "3           7.5          2015  1.839999e+08  1.902723e+09  \n",
       "4           7.3          2015  1.747999e+08  1.385749e+09  \n",
       "\n",
       "[5 rows x 21 columns]"
      ]
     },
     "execution_count": 1,
     "metadata": {},
     "output_type": "execute_result"
    }
   ],
   "source": [
    "import pandas as pd\n",
    "import matplotlib.pyplot as plt \n",
    "%matplotlib inline\n",
    "df = pd.read_csv('tmdb-movies.csv')\n",
    "df.head()"
   ]
  },
  {
   "cell_type": "markdown",
   "id": "c817f104",
   "metadata": {},
   "source": [
    "<h1>Step2: Asking questions</h1>\n",
    "<h4>questions expected to be answered by the end of this analysis:</h4>\n",
    "<ul>\n",
    "    <li>What movie genre is associated with high average votes in the last couple years? </li>\n",
    "    <li>What are the top 5 most popular movies in the last 5 years?</li>\n",
    "    <li>Does high movie production budget results in high revenues?</li>\n",
    "    <li>Average movie revenues in the last 2 years?</li>\n",
    "    <li>How did movie production budget change from 1999 to 2015?</li>\n",
    "    <li>What genre costs more in producation?</li>\n",
    "\n",
    "</ul>\n",
    "   "
   ]
  },
  {
   "cell_type": "markdown",
   "id": "4f50a5be",
   "metadata": {},
   "source": [
    "<h1>Step3: Data Wrangling</h1>\n",
    "<h2>Assessing Data</h2>\n",
    "\n",
    "<ul>\n",
    "    <li>number of samples in the dataframe</li>\n",
    "    <li>number of columns in the data frame</li>\n",
    "    <li>columns with null values</li>\n",
    "    <li>check for columns data types</li>\n",
    "    <li>number of duplicated rows</li>\n",
    "    \n",
    "</ul>\n"
   ]
  },
  {
   "cell_type": "code",
   "execution_count": 2,
   "id": "4328a8bc",
   "metadata": {},
   "outputs": [
    {
     "data": {
      "text/plain": [
       "(10866, 21)"
      ]
     },
     "execution_count": 2,
     "metadata": {},
     "output_type": "execute_result"
    }
   ],
   "source": [
    "# number of samples and number of columns\n",
    "len(df) , len(df.columns)"
   ]
  },
  {
   "cell_type": "code",
   "execution_count": 3,
   "id": "08ff6373",
   "metadata": {},
   "outputs": [
    {
     "name": "stdout",
     "output_type": "stream",
     "text": [
      "<class 'pandas.core.frame.DataFrame'>\n",
      "RangeIndex: 10866 entries, 0 to 10865\n",
      "Data columns (total 21 columns):\n",
      " #   Column                Non-Null Count  Dtype  \n",
      "---  ------                --------------  -----  \n",
      " 0   id                    10866 non-null  int64  \n",
      " 1   imdb_id               10856 non-null  object \n",
      " 2   popularity            10866 non-null  float64\n",
      " 3   budget                10866 non-null  int64  \n",
      " 4   revenue               10866 non-null  int64  \n",
      " 5   original_title        10866 non-null  object \n",
      " 6   cast                  10790 non-null  object \n",
      " 7   homepage              2936 non-null   object \n",
      " 8   director              10822 non-null  object \n",
      " 9   tagline               8042 non-null   object \n",
      " 10  keywords              9373 non-null   object \n",
      " 11  overview              10862 non-null  object \n",
      " 12  runtime               10866 non-null  int64  \n",
      " 13  genres                10843 non-null  object \n",
      " 14  production_companies  9836 non-null   object \n",
      " 15  release_date          10866 non-null  object \n",
      " 16  vote_count            10866 non-null  int64  \n",
      " 17  vote_average          10866 non-null  float64\n",
      " 18  release_year          10866 non-null  int64  \n",
      " 19  budget_adj            10866 non-null  float64\n",
      " 20  revenue_adj           10866 non-null  float64\n",
      "dtypes: float64(4), int64(6), object(11)\n",
      "memory usage: 1.7+ MB\n"
     ]
    }
   ],
   "source": [
    "# check for columns with null values\n",
    "df.info()"
   ]
  },
  {
   "cell_type": "code",
   "execution_count": 4,
   "id": "0d00270a",
   "metadata": {},
   "outputs": [
    {
     "data": {
      "text/plain": [
       "id                        int64\n",
       "imdb_id                  object\n",
       "popularity              float64\n",
       "budget                    int64\n",
       "revenue                   int64\n",
       "original_title           object\n",
       "cast                     object\n",
       "homepage                 object\n",
       "director                 object\n",
       "tagline                  object\n",
       "keywords                 object\n",
       "overview                 object\n",
       "runtime                   int64\n",
       "genres                   object\n",
       "production_companies     object\n",
       "release_date             object\n",
       "vote_count                int64\n",
       "vote_average            float64\n",
       "release_year              int64\n",
       "budget_adj              float64\n",
       "revenue_adj             float64\n",
       "dtype: object"
      ]
     },
     "execution_count": 4,
     "metadata": {},
     "output_type": "execute_result"
    }
   ],
   "source": [
    "# check for columns data types\n",
    "df.dtypes"
   ]
  },
  {
   "cell_type": "code",
   "execution_count": 5,
   "id": "7c5986c6",
   "metadata": {},
   "outputs": [
    {
     "data": {
      "text/plain": [
       "str"
      ]
     },
     "execution_count": 5,
     "metadata": {},
     "output_type": "execute_result"
    }
   ],
   "source": [
    "# investigate release_date data type \n",
    "type(df['release_date'][0])"
   ]
  },
  {
   "cell_type": "code",
   "execution_count": 6,
   "id": "9d74c785",
   "metadata": {},
   "outputs": [
    {
     "data": {
      "text/plain": [
       "1"
      ]
     },
     "execution_count": 6,
     "metadata": {},
     "output_type": "execute_result"
    }
   ],
   "source": [
    "# checking for duplicates\n",
    "df.duplicated().sum()"
   ]
  },
  {
   "cell_type": "markdown",
   "id": "73d17e4f",
   "metadata": {},
   "source": [
    "<h2>Cleaning Data</h2>\n",
    "<ul>\n",
    "    <li>drop unnecessary columns </li>\n",
    "    <li>drop duplicated rows</li>\n",
    "    <li>drop rows with null values</li>\n",
    "    <li>fix release_date data type from `str` to datetime</li>\n",
    "    <li>replace each `0` value with the column's mean in both `budget` and `revenue` columns</li>\n",
    "    \n",
    "</ul>"
   ]
  },
  {
   "cell_type": "code",
   "execution_count": 7,
   "id": "e63788fa",
   "metadata": {},
   "outputs": [],
   "source": [
    "#drop columns not needed\n",
    "df.drop(['homepage', 'overview', 'cast','tagline' ,'budget_adj' , 'revenue_adj'], axis=1, inplace=True)"
   ]
  },
  {
   "cell_type": "code",
   "execution_count": 8,
   "id": "41c31b06",
   "metadata": {},
   "outputs": [
    {
     "data": {
      "text/plain": [
       "(10865, 0)"
      ]
     },
     "execution_count": 8,
     "metadata": {},
     "output_type": "execute_result"
    }
   ],
   "source": [
    "#drop duplicates\n",
    "df = df.drop_duplicates()\n",
    "#check if deleted \n",
    "len(df) , df.duplicated().sum()"
   ]
  },
  {
   "cell_type": "code",
   "execution_count": 9,
   "id": "5e652730",
   "metadata": {
    "scrolled": true
   },
   "outputs": [],
   "source": [
    "#drop null valued rows\n",
    "df.dropna();"
   ]
  },
  {
   "cell_type": "code",
   "execution_count": 10,
   "id": "34cd11d8",
   "metadata": {},
   "outputs": [],
   "source": [
    "# convert release_date column from str to datetime type\n",
    "df['release_date']=pd.to_datetime(df['release_date'])"
   ]
  },
  {
   "cell_type": "code",
   "execution_count": 11,
   "id": "036acf70",
   "metadata": {},
   "outputs": [],
   "source": [
    "# handle 0 values in `budget` and `revenue` columns by filling it with the mean of the column values\n",
    "df['budget'].replace(to_replace = 0, value = df['budget'].mean(), inplace=True)\n",
    "df['revenue'].replace(to_replace = 0, value = df['revenue'].mean(), inplace=True)"
   ]
  },
  {
   "cell_type": "code",
   "execution_count": 12,
   "id": "668bc287",
   "metadata": {},
   "outputs": [
    {
     "data": {
      "text/html": [
       "<div>\n",
       "<style scoped>\n",
       "    .dataframe tbody tr th:only-of-type {\n",
       "        vertical-align: middle;\n",
       "    }\n",
       "\n",
       "    .dataframe tbody tr th {\n",
       "        vertical-align: top;\n",
       "    }\n",
       "\n",
       "    .dataframe thead th {\n",
       "        text-align: right;\n",
       "    }\n",
       "</style>\n",
       "<table border=\"1\" class=\"dataframe\">\n",
       "  <thead>\n",
       "    <tr style=\"text-align: right;\">\n",
       "      <th></th>\n",
       "      <th>id</th>\n",
       "      <th>imdb_id</th>\n",
       "      <th>popularity</th>\n",
       "      <th>budget</th>\n",
       "      <th>revenue</th>\n",
       "      <th>original_title</th>\n",
       "      <th>director</th>\n",
       "      <th>keywords</th>\n",
       "      <th>runtime</th>\n",
       "      <th>genres</th>\n",
       "      <th>production_companies</th>\n",
       "      <th>release_date</th>\n",
       "      <th>vote_count</th>\n",
       "      <th>vote_average</th>\n",
       "      <th>release_year</th>\n",
       "    </tr>\n",
       "  </thead>\n",
       "  <tbody>\n",
       "    <tr>\n",
       "      <th>0</th>\n",
       "      <td>135397</td>\n",
       "      <td>tt0369610</td>\n",
       "      <td>32.985763</td>\n",
       "      <td>150000000.0</td>\n",
       "      <td>1.513529e+09</td>\n",
       "      <td>Jurassic World</td>\n",
       "      <td>Colin Trevorrow</td>\n",
       "      <td>monster|dna|tyrannosaurus rex|velociraptor|island</td>\n",
       "      <td>124</td>\n",
       "      <td>Action|Adventure|Science Fiction|Thriller</td>\n",
       "      <td>Universal Studios|Amblin Entertainment|Legenda...</td>\n",
       "      <td>2015-06-09</td>\n",
       "      <td>5562</td>\n",
       "      <td>6.5</td>\n",
       "      <td>2015</td>\n",
       "    </tr>\n",
       "    <tr>\n",
       "      <th>1</th>\n",
       "      <td>76341</td>\n",
       "      <td>tt1392190</td>\n",
       "      <td>28.419936</td>\n",
       "      <td>150000000.0</td>\n",
       "      <td>3.784364e+08</td>\n",
       "      <td>Mad Max: Fury Road</td>\n",
       "      <td>George Miller</td>\n",
       "      <td>future|chase|post-apocalyptic|dystopia|australia</td>\n",
       "      <td>120</td>\n",
       "      <td>Action|Adventure|Science Fiction|Thriller</td>\n",
       "      <td>Village Roadshow Pictures|Kennedy Miller Produ...</td>\n",
       "      <td>2015-05-13</td>\n",
       "      <td>6185</td>\n",
       "      <td>7.1</td>\n",
       "      <td>2015</td>\n",
       "    </tr>\n",
       "    <tr>\n",
       "      <th>2</th>\n",
       "      <td>262500</td>\n",
       "      <td>tt2908446</td>\n",
       "      <td>13.112507</td>\n",
       "      <td>110000000.0</td>\n",
       "      <td>2.952382e+08</td>\n",
       "      <td>Insurgent</td>\n",
       "      <td>Robert Schwentke</td>\n",
       "      <td>based on novel|revolution|dystopia|sequel|dyst...</td>\n",
       "      <td>119</td>\n",
       "      <td>Adventure|Science Fiction|Thriller</td>\n",
       "      <td>Summit Entertainment|Mandeville Films|Red Wago...</td>\n",
       "      <td>2015-03-18</td>\n",
       "      <td>2480</td>\n",
       "      <td>6.3</td>\n",
       "      <td>2015</td>\n",
       "    </tr>\n",
       "    <tr>\n",
       "      <th>3</th>\n",
       "      <td>140607</td>\n",
       "      <td>tt2488496</td>\n",
       "      <td>11.173104</td>\n",
       "      <td>200000000.0</td>\n",
       "      <td>2.068178e+09</td>\n",
       "      <td>Star Wars: The Force Awakens</td>\n",
       "      <td>J.J. Abrams</td>\n",
       "      <td>android|spaceship|jedi|space opera|3d</td>\n",
       "      <td>136</td>\n",
       "      <td>Action|Adventure|Science Fiction|Fantasy</td>\n",
       "      <td>Lucasfilm|Truenorth Productions|Bad Robot</td>\n",
       "      <td>2015-12-15</td>\n",
       "      <td>5292</td>\n",
       "      <td>7.5</td>\n",
       "      <td>2015</td>\n",
       "    </tr>\n",
       "    <tr>\n",
       "      <th>4</th>\n",
       "      <td>168259</td>\n",
       "      <td>tt2820852</td>\n",
       "      <td>9.335014</td>\n",
       "      <td>190000000.0</td>\n",
       "      <td>1.506249e+09</td>\n",
       "      <td>Furious 7</td>\n",
       "      <td>James Wan</td>\n",
       "      <td>car race|speed|revenge|suspense|car</td>\n",
       "      <td>137</td>\n",
       "      <td>Action|Crime|Thriller</td>\n",
       "      <td>Universal Pictures|Original Film|Media Rights ...</td>\n",
       "      <td>2015-04-01</td>\n",
       "      <td>2947</td>\n",
       "      <td>7.3</td>\n",
       "      <td>2015</td>\n",
       "    </tr>\n",
       "  </tbody>\n",
       "</table>\n",
       "</div>"
      ],
      "text/plain": [
       "       id    imdb_id  popularity       budget       revenue  \\\n",
       "0  135397  tt0369610   32.985763  150000000.0  1.513529e+09   \n",
       "1   76341  tt1392190   28.419936  150000000.0  3.784364e+08   \n",
       "2  262500  tt2908446   13.112507  110000000.0  2.952382e+08   \n",
       "3  140607  tt2488496   11.173104  200000000.0  2.068178e+09   \n",
       "4  168259  tt2820852    9.335014  190000000.0  1.506249e+09   \n",
       "\n",
       "                 original_title          director  \\\n",
       "0                Jurassic World   Colin Trevorrow   \n",
       "1            Mad Max: Fury Road     George Miller   \n",
       "2                     Insurgent  Robert Schwentke   \n",
       "3  Star Wars: The Force Awakens       J.J. Abrams   \n",
       "4                     Furious 7         James Wan   \n",
       "\n",
       "                                            keywords  runtime  \\\n",
       "0  monster|dna|tyrannosaurus rex|velociraptor|island      124   \n",
       "1   future|chase|post-apocalyptic|dystopia|australia      120   \n",
       "2  based on novel|revolution|dystopia|sequel|dyst...      119   \n",
       "3              android|spaceship|jedi|space opera|3d      136   \n",
       "4                car race|speed|revenge|suspense|car      137   \n",
       "\n",
       "                                      genres  \\\n",
       "0  Action|Adventure|Science Fiction|Thriller   \n",
       "1  Action|Adventure|Science Fiction|Thriller   \n",
       "2         Adventure|Science Fiction|Thriller   \n",
       "3   Action|Adventure|Science Fiction|Fantasy   \n",
       "4                      Action|Crime|Thriller   \n",
       "\n",
       "                                production_companies release_date  vote_count  \\\n",
       "0  Universal Studios|Amblin Entertainment|Legenda...   2015-06-09        5562   \n",
       "1  Village Roadshow Pictures|Kennedy Miller Produ...   2015-05-13        6185   \n",
       "2  Summit Entertainment|Mandeville Films|Red Wago...   2015-03-18        2480   \n",
       "3          Lucasfilm|Truenorth Productions|Bad Robot   2015-12-15        5292   \n",
       "4  Universal Pictures|Original Film|Media Rights ...   2015-04-01        2947   \n",
       "\n",
       "   vote_average  release_year  \n",
       "0           6.5          2015  \n",
       "1           7.1          2015  \n",
       "2           6.3          2015  \n",
       "3           7.5          2015  \n",
       "4           7.3          2015  "
      ]
     },
     "execution_count": 12,
     "metadata": {},
     "output_type": "execute_result"
    }
   ],
   "source": [
    "# check for changes\n",
    "df.head()"
   ]
  },
  {
   "cell_type": "markdown",
   "id": "7ad4e60b",
   "metadata": {},
   "source": [
    "<h1>Step4: Exploring with visuals</h1>\n",
    "\n",
    "\n",
    "<ul>\n",
    "    <li>histograms of all features</li>\n",
    "    <li>scatter plot shows the correlation between budget and revenue.</li>\n",
    "    <li>scatter plot shows the relationship between release year and budget. </li>\n",
    "    \n",
    "</ul>\n",
    "\n"
   ]
  },
  {
   "cell_type": "code",
   "execution_count": 13,
   "id": "a0ed72ef",
   "metadata": {},
   "outputs": [
    {
     "data": {
      "image/png": "[encoded data removed]",
      "text/plain": [
       "<Figure size 720x720 with 9 Axes>"
      ]
     },
     "metadata": {
      "needs_background": "light"
     },
     "output_type": "display_data"
    }
   ],
   "source": [
    "df.hist(figsize=(10,10));"
   ]
  },
  {
   "cell_type": "code",
   "execution_count": 14,
   "id": "a3a1f494",
   "metadata": {},
   "outputs": [
    {
     "data": {
      "image/png": "[encoded data removed]",
      "text/plain": [
       "<Figure size 720x720 with 1 Axes>"
      ]
     },
     "metadata": {
      "needs_background": "light"
     },
     "output_type": "display_data"
    }
   ],
   "source": [
    "df.plot(x='budget' , y='revenue',kind='scatter', figsize=(10,10));"
   ]
  },
  {
   "cell_type": "markdown",
   "id": "3d97d1a6",
   "metadata": {},
   "source": [
    "the scatter plot shows a positive correlation between budget and revenue."
   ]
  },
  {
   "cell_type": "code",
   "execution_count": 15,
   "id": "32c39056",
   "metadata": {},
   "outputs": [
    {
     "data": {
      "image/png": "[encoded data removed]",
      "text/plain": [
       "<Figure size 720x720 with 1 Axes>"
      ]
     },
     "metadata": {
      "needs_background": "light"
     },
     "output_type": "display_data"
    }
   ],
   "source": [
    "df.plot(x='release_year' , y='budget' , kind='scatter' , figsize=(10,10));"
   ]
  },
  {
   "cell_type": "markdown",
   "id": "0d32d072",
   "metadata": {},
   "source": [
    "and here its clear that movie production budget is increasing .\n",
    "\n",
    "\n",
    "\n",
    "\n"
   ]
  },
  {
   "cell_type": "markdown",
   "id": "03bc0f1e",
   "metadata": {},
   "source": [
    "<h1>Step5: Drawing Conclusions</h1>"
   ]
  },
  {
   "cell_type": "markdown",
   "id": "0c736c3f",
   "metadata": {},
   "source": [
    "<h3>Q1:What movie genre is associated with high average votes in the last couple years? "
   ]
  },
  {
   "cell_type": "code",
   "execution_count": 16,
   "id": "10e46d19",
   "metadata": {},
   "outputs": [],
   "source": [
    "#select movies of last two years 2014&2015\n",
    "df_last2years = df.query('release_year > 2013 ')"
   ]
  },
  {
   "cell_type": "markdown",
   "id": "4322d03c",
   "metadata": {},
   "source": [
    "`genres` column has multiple values so first we need to make each values in a separate row"
   ]
  },
  {
   "cell_type": "code",
   "execution_count": 32,
   "id": "882a7761",
   "metadata": {},
   "outputs": [
    {
     "data": {
      "text/html": [
       "<div>\n",
       "<style scoped>\n",
       "    .dataframe tbody tr th:only-of-type {\n",
       "        vertical-align: middle;\n",
       "    }\n",
       "\n",
       "    .dataframe tbody tr th {\n",
       "        vertical-align: top;\n",
       "    }\n",
       "\n",
       "    .dataframe thead th {\n",
       "        text-align: right;\n",
       "    }\n",
       "</style>\n",
       "<table border=\"1\" class=\"dataframe\">\n",
       "  <thead>\n",
       "    <tr style=\"text-align: right;\">\n",
       "      <th></th>\n",
       "      <th>id</th>\n",
       "      <th>imdb_id</th>\n",
       "      <th>popularity</th>\n",
       "      <th>budget</th>\n",
       "      <th>revenue</th>\n",
       "      <th>original_title</th>\n",
       "      <th>director</th>\n",
       "      <th>keywords</th>\n",
       "      <th>runtime</th>\n",
       "      <th>genres</th>\n",
       "      <th>production_companies</th>\n",
       "      <th>release_date</th>\n",
       "      <th>vote_count</th>\n",
       "      <th>vote_average</th>\n",
       "      <th>release_year</th>\n",
       "    </tr>\n",
       "  </thead>\n",
       "  <tbody>\n",
       "    <tr>\n",
       "      <th>0</th>\n",
       "      <td>135397</td>\n",
       "      <td>tt0369610</td>\n",
       "      <td>32.985763</td>\n",
       "      <td>1.500000e+08</td>\n",
       "      <td>1.513529e+09</td>\n",
       "      <td>Jurassic World</td>\n",
       "      <td>Colin Trevorrow</td>\n",
       "      <td>monster|dna|tyrannosaurus rex|velociraptor|island</td>\n",
       "      <td>124</td>\n",
       "      <td>Action</td>\n",
       "      <td>Universal Studios|Amblin Entertainment|Legenda...</td>\n",
       "      <td>2015-06-09</td>\n",
       "      <td>5562</td>\n",
       "      <td>6.5</td>\n",
       "      <td>2015</td>\n",
       "    </tr>\n",
       "    <tr>\n",
       "      <th>0</th>\n",
       "      <td>135397</td>\n",
       "      <td>tt0369610</td>\n",
       "      <td>32.985763</td>\n",
       "      <td>1.500000e+08</td>\n",
       "      <td>1.513529e+09</td>\n",
       "      <td>Jurassic World</td>\n",
       "      <td>Colin Trevorrow</td>\n",
       "      <td>monster|dna|tyrannosaurus rex|velociraptor|island</td>\n",
       "      <td>124</td>\n",
       "      <td>Adventure</td>\n",
       "      <td>Universal Studios|Amblin Entertainment|Legenda...</td>\n",
       "      <td>2015-06-09</td>\n",
       "      <td>5562</td>\n",
       "      <td>6.5</td>\n",
       "      <td>2015</td>\n",
       "    </tr>\n",
       "    <tr>\n",
       "      <th>0</th>\n",
       "      <td>135397</td>\n",
       "      <td>tt0369610</td>\n",
       "      <td>32.985763</td>\n",
       "      <td>1.500000e+08</td>\n",
       "      <td>1.513529e+09</td>\n",
       "      <td>Jurassic World</td>\n",
       "      <td>Colin Trevorrow</td>\n",
       "      <td>monster|dna|tyrannosaurus rex|velociraptor|island</td>\n",
       "      <td>124</td>\n",
       "      <td>Science Fiction</td>\n",
       "      <td>Universal Studios|Amblin Entertainment|Legenda...</td>\n",
       "      <td>2015-06-09</td>\n",
       "      <td>5562</td>\n",
       "      <td>6.5</td>\n",
       "      <td>2015</td>\n",
       "    </tr>\n",
       "    <tr>\n",
       "      <th>0</th>\n",
       "      <td>135397</td>\n",
       "      <td>tt0369610</td>\n",
       "      <td>32.985763</td>\n",
       "      <td>1.500000e+08</td>\n",
       "      <td>1.513529e+09</td>\n",
       "      <td>Jurassic World</td>\n",
       "      <td>Colin Trevorrow</td>\n",
       "      <td>monster|dna|tyrannosaurus rex|velociraptor|island</td>\n",
       "      <td>124</td>\n",
       "      <td>Thriller</td>\n",
       "      <td>Universal Studios|Amblin Entertainment|Legenda...</td>\n",
       "      <td>2015-06-09</td>\n",
       "      <td>5562</td>\n",
       "      <td>6.5</td>\n",
       "      <td>2015</td>\n",
       "    </tr>\n",
       "    <tr>\n",
       "      <th>1</th>\n",
       "      <td>76341</td>\n",
       "      <td>tt1392190</td>\n",
       "      <td>28.419936</td>\n",
       "      <td>1.500000e+08</td>\n",
       "      <td>3.784364e+08</td>\n",
       "      <td>Mad Max: Fury Road</td>\n",
       "      <td>George Miller</td>\n",
       "      <td>future|chase|post-apocalyptic|dystopia|australia</td>\n",
       "      <td>120</td>\n",
       "      <td>Action</td>\n",
       "      <td>Village Roadshow Pictures|Kennedy Miller Produ...</td>\n",
       "      <td>2015-05-13</td>\n",
       "      <td>6185</td>\n",
       "      <td>7.1</td>\n",
       "      <td>2015</td>\n",
       "    </tr>\n",
       "    <tr>\n",
       "      <th>...</th>\n",
       "      <td>...</td>\n",
       "      <td>...</td>\n",
       "      <td>...</td>\n",
       "      <td>...</td>\n",
       "      <td>...</td>\n",
       "      <td>...</td>\n",
       "      <td>...</td>\n",
       "      <td>...</td>\n",
       "      <td>...</td>\n",
       "      <td>...</td>\n",
       "      <td>...</td>\n",
       "      <td>...</td>\n",
       "      <td>...</td>\n",
       "      <td>...</td>\n",
       "      <td>...</td>\n",
       "    </tr>\n",
       "    <tr>\n",
       "      <th>1325</th>\n",
       "      <td>286817</td>\n",
       "      <td>tt3546114</td>\n",
       "      <td>0.032049</td>\n",
       "      <td>1.462429e+07</td>\n",
       "      <td>3.982690e+07</td>\n",
       "      <td>Anatomy of a Love Seen</td>\n",
       "      <td>Marina Rice Bader</td>\n",
       "      <td>lesbian|woman director</td>\n",
       "      <td>86</td>\n",
       "      <td>Romance</td>\n",
       "      <td>Soul Kiss Films</td>\n",
       "      <td>2014-07-28</td>\n",
       "      <td>18</td>\n",
       "      <td>4.2</td>\n",
       "      <td>2014</td>\n",
       "    </tr>\n",
       "    <tr>\n",
       "      <th>1325</th>\n",
       "      <td>286817</td>\n",
       "      <td>tt3546114</td>\n",
       "      <td>0.032049</td>\n",
       "      <td>1.462429e+07</td>\n",
       "      <td>3.982690e+07</td>\n",
       "      <td>Anatomy of a Love Seen</td>\n",
       "      <td>Marina Rice Bader</td>\n",
       "      <td>lesbian|woman director</td>\n",
       "      <td>86</td>\n",
       "      <td>Drama</td>\n",
       "      <td>Soul Kiss Films</td>\n",
       "      <td>2014-07-28</td>\n",
       "      <td>18</td>\n",
       "      <td>4.2</td>\n",
       "      <td>2014</td>\n",
       "    </tr>\n",
       "    <tr>\n",
       "      <th>1326</th>\n",
       "      <td>250668</td>\n",
       "      <td>tt2548738</td>\n",
       "      <td>0.023872</td>\n",
       "      <td>1.462429e+07</td>\n",
       "      <td>3.982690e+07</td>\n",
       "      <td>Rich Hill</td>\n",
       "      <td>Tracy Droz Tragos|Andrew Droz Palermo</td>\n",
       "      <td>woman director</td>\n",
       "      <td>91</td>\n",
       "      <td>Documentary</td>\n",
       "      <td>NaN</td>\n",
       "      <td>2014-01-19</td>\n",
       "      <td>14</td>\n",
       "      <td>7.1</td>\n",
       "      <td>2014</td>\n",
       "    </tr>\n",
       "    <tr>\n",
       "      <th>1327</th>\n",
       "      <td>258614</td>\n",
       "      <td>tt2966760</td>\n",
       "      <td>0.003504</td>\n",
       "      <td>1.462429e+07</td>\n",
       "      <td>3.982690e+07</td>\n",
       "      <td>Pantani: The Accidental Death of a Cyclist</td>\n",
       "      <td>James Erskine</td>\n",
       "      <td>NaN</td>\n",
       "      <td>90</td>\n",
       "      <td>Documentary</td>\n",
       "      <td>NaN</td>\n",
       "      <td>2014-02-17</td>\n",
       "      <td>11</td>\n",
       "      <td>6.5</td>\n",
       "      <td>2014</td>\n",
       "    </tr>\n",
       "    <tr>\n",
       "      <th>1328</th>\n",
       "      <td>288301</td>\n",
       "      <td>tt3997238</td>\n",
       "      <td>0.002599</td>\n",
       "      <td>1.462429e+07</td>\n",
       "      <td>3.982690e+07</td>\n",
       "      <td>Do I Sound Gay?</td>\n",
       "      <td>David Thorpe</td>\n",
       "      <td>homosexuality</td>\n",
       "      <td>77</td>\n",
       "      <td>Documentary</td>\n",
       "      <td>NaN</td>\n",
       "      <td>2014-07-10</td>\n",
       "      <td>12</td>\n",
       "      <td>5.8</td>\n",
       "      <td>2014</td>\n",
       "    </tr>\n",
       "  </tbody>\n",
       "</table>\n",
       "<p>2859 rows × 15 columns</p>\n",
       "</div>"
      ],
      "text/plain": [
       "          id    imdb_id  popularity        budget       revenue  \\\n",
       "0     135397  tt0369610   32.985763  1.500000e+08  1.513529e+09   \n",
       "0     135397  tt0369610   32.985763  1.500000e+08  1.513529e+09   \n",
       "0     135397  tt0369610   32.985763  1.500000e+08  1.513529e+09   \n",
       "0     135397  tt0369610   32.985763  1.500000e+08  1.513529e+09   \n",
       "1      76341  tt1392190   28.419936  1.500000e+08  3.784364e+08   \n",
       "...      ...        ...         ...           ...           ...   \n",
       "1325  286817  tt3546114    0.032049  1.462429e+07  3.982690e+07   \n",
       "1325  286817  tt3546114    0.032049  1.462429e+07  3.982690e+07   \n",
       "1326  250668  tt2548738    0.023872  1.462429e+07  3.982690e+07   \n",
       "1327  258614  tt2966760    0.003504  1.462429e+07  3.982690e+07   \n",
       "1328  288301  tt3997238    0.002599  1.462429e+07  3.982690e+07   \n",
       "\n",
       "                                  original_title  \\\n",
       "0                                 Jurassic World   \n",
       "0                                 Jurassic World   \n",
       "0                                 Jurassic World   \n",
       "0                                 Jurassic World   \n",
       "1                             Mad Max: Fury Road   \n",
       "...                                          ...   \n",
       "1325                      Anatomy of a Love Seen   \n",
       "1325                      Anatomy of a Love Seen   \n",
       "1326                                   Rich Hill   \n",
       "1327  Pantani: The Accidental Death of a Cyclist   \n",
       "1328                             Do I Sound Gay?   \n",
       "\n",
       "                                   director  \\\n",
       "0                           Colin Trevorrow   \n",
       "0                           Colin Trevorrow   \n",
       "0                           Colin Trevorrow   \n",
       "0                           Colin Trevorrow   \n",
       "1                             George Miller   \n",
       "...                                     ...   \n",
       "1325                      Marina Rice Bader   \n",
       "1325                      Marina Rice Bader   \n",
       "1326  Tracy Droz Tragos|Andrew Droz Palermo   \n",
       "1327                          James Erskine   \n",
       "1328                           David Thorpe   \n",
       "\n",
       "                                               keywords  runtime  \\\n",
       "0     monster|dna|tyrannosaurus rex|velociraptor|island      124   \n",
       "0     monster|dna|tyrannosaurus rex|velociraptor|island      124   \n",
       "0     monster|dna|tyrannosaurus rex|velociraptor|island      124   \n",
       "0     monster|dna|tyrannosaurus rex|velociraptor|island      124   \n",
       "1      future|chase|post-apocalyptic|dystopia|australia      120   \n",
       "...                                                 ...      ...   \n",
       "1325                             lesbian|woman director       86   \n",
       "1325                             lesbian|woman director       86   \n",
       "1326                                     woman director       91   \n",
       "1327                                                NaN       90   \n",
       "1328                                      homosexuality       77   \n",
       "\n",
       "               genres                               production_companies  \\\n",
       "0              Action  Universal Studios|Amblin Entertainment|Legenda...   \n",
       "0           Adventure  Universal Studios|Amblin Entertainment|Legenda...   \n",
       "0     Science Fiction  Universal Studios|Amblin Entertainment|Legenda...   \n",
       "0            Thriller  Universal Studios|Amblin Entertainment|Legenda...   \n",
       "1              Action  Village Roadshow Pictures|Kennedy Miller Produ...   \n",
       "...               ...                                                ...   \n",
       "1325          Romance                                    Soul Kiss Films   \n",
       "1325            Drama                                    Soul Kiss Films   \n",
       "1326      Documentary                                                NaN   \n",
       "1327      Documentary                                                NaN   \n",
       "1328      Documentary                                                NaN   \n",
       "\n",
       "     release_date  vote_count  vote_average  release_year  \n",
       "0      2015-06-09        5562           6.5          2015  \n",
       "0      2015-06-09        5562           6.5          2015  \n",
       "0      2015-06-09        5562           6.5          2015  \n",
       "0      2015-06-09        5562           6.5          2015  \n",
       "1      2015-05-13        6185           7.1          2015  \n",
       "...           ...         ...           ...           ...  \n",
       "1325   2014-07-28          18           4.2          2014  \n",
       "1325   2014-07-28          18           4.2          2014  \n",
       "1326   2014-01-19          14           7.1          2014  \n",
       "1327   2014-02-17          11           6.5          2014  \n",
       "1328   2014-07-10          12           5.8          2014  \n",
       "\n",
       "[2859 rows x 15 columns]"
      ]
     },
     "execution_count": 32,
     "metadata": {},
     "output_type": "execute_result"
    }
   ],
   "source": [
    "# separate genres values into multiple rows\n",
    "df_last2years[\"genres\"] = df_last2years[\"genres\"].str.split(\"|\") \n",
    "df_last2years = df_last2years.explode(\"genres\") \n",
    "df_last2years"
   ]
  },
  {
   "cell_type": "code",
   "execution_count": 18,
   "id": "298155db",
   "metadata": {},
   "outputs": [
    {
     "data": {
      "text/plain": [
       "19"
      ]
     },
     "execution_count": 18,
     "metadata": {},
     "output_type": "execute_result"
    }
   ],
   "source": [
    "#check how many unique genres are there in the data frame\n",
    "df_last2years['genres'].nunique()"
   ]
  },
  {
   "cell_type": "markdown",
   "id": "5cb61a95",
   "metadata": {},
   "source": [
    "apparentely there are 19 unique genres in this data set \n",
    "<br>now lets see the average of each genre's vote_count?"
   ]
  },
  {
   "cell_type": "code",
   "execution_count": 19,
   "id": "70cd8640",
   "metadata": {},
   "outputs": [
    {
     "data": {
      "text/plain": [
       "genres\n",
       "Action             688.639831\n",
       "Adventure          960.382353\n",
       "Animation          380.346667\n",
       "Comedy             294.221902\n",
       "Crime              415.293103\n",
       "Documentary         38.669231\n",
       "Drama              271.095588\n",
       "Family             376.850575\n",
       "Fantasy            628.434783\n",
       "History            368.100000\n",
       "Horror             121.108696\n",
       "Music              173.852459\n",
       "Mystery            386.000000\n",
       "Romance            246.666667\n",
       "Science Fiction    775.864865\n",
       "TV Movie            26.294118\n",
       "Thriller           341.011429\n",
       "War                598.312500\n",
       "Western            702.916667\n",
       "Name: vote_count, dtype: float64"
      ]
     },
     "execution_count": 19,
     "metadata": {},
     "output_type": "execute_result"
    }
   ],
   "source": [
    "genres_vote_mean=df_last2years.groupby('genres').vote_count.mean()\n",
    "genres_vote_mean"
   ]
  },
  {
   "cell_type": "code",
   "execution_count": 20,
   "id": "d774569b",
   "metadata": {},
   "outputs": [
    {
     "data": {
      "image/png": "[encoded data removed]",
      "text/plain": [
       "<Figure size 1080x576 with 1 Axes>"
      ]
     },
     "metadata": {
      "needs_background": "light"
     },
     "output_type": "display_data"
    }
   ],
   "source": [
    "genres_vote_mean.plot(x='genres' , y='vote_count' , kind='bar' , figsize=(15,8));"
   ]
  },
  {
   "cell_type": "markdown",
   "id": "9ab1642e",
   "metadata": {},
   "source": [
    "Apparentely, <b>adventure</b> movies are getting the highest average votes in the last couple years"
   ]
  },
  {
   "cell_type": "markdown",
   "id": "8e5e3754",
   "metadata": {},
   "source": [
    "<h3>Q2:What are the top 5 most popular movies in the last 5 years?"
   ]
  },
  {
   "cell_type": "code",
   "execution_count": 21,
   "id": "004657ec",
   "metadata": {},
   "outputs": [],
   "source": [
    "#select last 5 years movies \n",
    "last_five_years = df.query('release_year > 2010')"
   ]
  },
  {
   "cell_type": "markdown",
   "id": "19036460",
   "metadata": {},
   "source": [
    "sorting the samples by `popularity` in a descending order and viewing the top 5  "
   ]
  },
  {
   "cell_type": "code",
   "execution_count": 22,
   "id": "f4029d38",
   "metadata": {},
   "outputs": [
    {
     "data": {
      "text/html": [
       "<div>\n",
       "<style scoped>\n",
       "    .dataframe tbody tr th:only-of-type {\n",
       "        vertical-align: middle;\n",
       "    }\n",
       "\n",
       "    .dataframe tbody tr th {\n",
       "        vertical-align: top;\n",
       "    }\n",
       "\n",
       "    .dataframe thead th {\n",
       "        text-align: right;\n",
       "    }\n",
       "</style>\n",
       "<table border=\"1\" class=\"dataframe\">\n",
       "  <thead>\n",
       "    <tr style=\"text-align: right;\">\n",
       "      <th></th>\n",
       "      <th>id</th>\n",
       "      <th>imdb_id</th>\n",
       "      <th>popularity</th>\n",
       "      <th>budget</th>\n",
       "      <th>revenue</th>\n",
       "      <th>original_title</th>\n",
       "      <th>director</th>\n",
       "      <th>keywords</th>\n",
       "      <th>runtime</th>\n",
       "      <th>genres</th>\n",
       "      <th>production_companies</th>\n",
       "      <th>release_date</th>\n",
       "      <th>vote_count</th>\n",
       "      <th>vote_average</th>\n",
       "      <th>release_year</th>\n",
       "    </tr>\n",
       "  </thead>\n",
       "  <tbody>\n",
       "    <tr>\n",
       "      <th>0</th>\n",
       "      <td>135397</td>\n",
       "      <td>tt0369610</td>\n",
       "      <td>32.985763</td>\n",
       "      <td>150000000.0</td>\n",
       "      <td>1.513529e+09</td>\n",
       "      <td>Jurassic World</td>\n",
       "      <td>Colin Trevorrow</td>\n",
       "      <td>monster|dna|tyrannosaurus rex|velociraptor|island</td>\n",
       "      <td>124</td>\n",
       "      <td>Action|Adventure|Science Fiction|Thriller</td>\n",
       "      <td>Universal Studios|Amblin Entertainment|Legenda...</td>\n",
       "      <td>2015-06-09</td>\n",
       "      <td>5562</td>\n",
       "      <td>6.5</td>\n",
       "      <td>2015</td>\n",
       "    </tr>\n",
       "    <tr>\n",
       "      <th>1</th>\n",
       "      <td>76341</td>\n",
       "      <td>tt1392190</td>\n",
       "      <td>28.419936</td>\n",
       "      <td>150000000.0</td>\n",
       "      <td>3.784364e+08</td>\n",
       "      <td>Mad Max: Fury Road</td>\n",
       "      <td>George Miller</td>\n",
       "      <td>future|chase|post-apocalyptic|dystopia|australia</td>\n",
       "      <td>120</td>\n",
       "      <td>Action|Adventure|Science Fiction|Thriller</td>\n",
       "      <td>Village Roadshow Pictures|Kennedy Miller Produ...</td>\n",
       "      <td>2015-05-13</td>\n",
       "      <td>6185</td>\n",
       "      <td>7.1</td>\n",
       "      <td>2015</td>\n",
       "    </tr>\n",
       "    <tr>\n",
       "      <th>629</th>\n",
       "      <td>157336</td>\n",
       "      <td>tt0816692</td>\n",
       "      <td>24.949134</td>\n",
       "      <td>165000000.0</td>\n",
       "      <td>6.217525e+08</td>\n",
       "      <td>Interstellar</td>\n",
       "      <td>Christopher Nolan</td>\n",
       "      <td>saving the world|artificial intelligence|fathe...</td>\n",
       "      <td>169</td>\n",
       "      <td>Adventure|Drama|Science Fiction</td>\n",
       "      <td>Paramount Pictures|Legendary Pictures|Warner B...</td>\n",
       "      <td>2014-11-05</td>\n",
       "      <td>6498</td>\n",
       "      <td>8.0</td>\n",
       "      <td>2014</td>\n",
       "    </tr>\n",
       "    <tr>\n",
       "      <th>630</th>\n",
       "      <td>118340</td>\n",
       "      <td>tt2015381</td>\n",
       "      <td>14.311205</td>\n",
       "      <td>170000000.0</td>\n",
       "      <td>7.733124e+08</td>\n",
       "      <td>Guardians of the Galaxy</td>\n",
       "      <td>James Gunn</td>\n",
       "      <td>marvel comic|spaceship|space|scene during end ...</td>\n",
       "      <td>121</td>\n",
       "      <td>Action|Science Fiction|Adventure</td>\n",
       "      <td>Marvel Studios|Moving Picture Company (MPC)|Bu...</td>\n",
       "      <td>2014-07-30</td>\n",
       "      <td>5612</td>\n",
       "      <td>7.9</td>\n",
       "      <td>2014</td>\n",
       "    </tr>\n",
       "    <tr>\n",
       "      <th>2</th>\n",
       "      <td>262500</td>\n",
       "      <td>tt2908446</td>\n",
       "      <td>13.112507</td>\n",
       "      <td>110000000.0</td>\n",
       "      <td>2.952382e+08</td>\n",
       "      <td>Insurgent</td>\n",
       "      <td>Robert Schwentke</td>\n",
       "      <td>based on novel|revolution|dystopia|sequel|dyst...</td>\n",
       "      <td>119</td>\n",
       "      <td>Adventure|Science Fiction|Thriller</td>\n",
       "      <td>Summit Entertainment|Mandeville Films|Red Wago...</td>\n",
       "      <td>2015-03-18</td>\n",
       "      <td>2480</td>\n",
       "      <td>6.3</td>\n",
       "      <td>2015</td>\n",
       "    </tr>\n",
       "  </tbody>\n",
       "</table>\n",
       "</div>"
      ],
      "text/plain": [
       "         id    imdb_id  popularity       budget       revenue  \\\n",
       "0    135397  tt0369610   32.985763  150000000.0  1.513529e+09   \n",
       "1     76341  tt1392190   28.419936  150000000.0  3.784364e+08   \n",
       "629  157336  tt0816692   24.949134  165000000.0  6.217525e+08   \n",
       "630  118340  tt2015381   14.311205  170000000.0  7.733124e+08   \n",
       "2    262500  tt2908446   13.112507  110000000.0  2.952382e+08   \n",
       "\n",
       "              original_title           director  \\\n",
       "0             Jurassic World    Colin Trevorrow   \n",
       "1         Mad Max: Fury Road      George Miller   \n",
       "629             Interstellar  Christopher Nolan   \n",
       "630  Guardians of the Galaxy         James Gunn   \n",
       "2                  Insurgent   Robert Schwentke   \n",
       "\n",
       "                                              keywords  runtime  \\\n",
       "0    monster|dna|tyrannosaurus rex|velociraptor|island      124   \n",
       "1     future|chase|post-apocalyptic|dystopia|australia      120   \n",
       "629  saving the world|artificial intelligence|fathe...      169   \n",
       "630  marvel comic|spaceship|space|scene during end ...      121   \n",
       "2    based on novel|revolution|dystopia|sequel|dyst...      119   \n",
       "\n",
       "                                        genres  \\\n",
       "0    Action|Adventure|Science Fiction|Thriller   \n",
       "1    Action|Adventure|Science Fiction|Thriller   \n",
       "629            Adventure|Drama|Science Fiction   \n",
       "630           Action|Science Fiction|Adventure   \n",
       "2           Adventure|Science Fiction|Thriller   \n",
       "\n",
       "                                  production_companies release_date  \\\n",
       "0    Universal Studios|Amblin Entertainment|Legenda...   2015-06-09   \n",
       "1    Village Roadshow Pictures|Kennedy Miller Produ...   2015-05-13   \n",
       "629  Paramount Pictures|Legendary Pictures|Warner B...   2014-11-05   \n",
       "630  Marvel Studios|Moving Picture Company (MPC)|Bu...   2014-07-30   \n",
       "2    Summit Entertainment|Mandeville Films|Red Wago...   2015-03-18   \n",
       "\n",
       "     vote_count  vote_average  release_year  \n",
       "0          5562           6.5          2015  \n",
       "1          6185           7.1          2015  \n",
       "629        6498           8.0          2014  \n",
       "630        5612           7.9          2014  \n",
       "2          2480           6.3          2015  "
      ]
     },
     "execution_count": 22,
     "metadata": {},
     "output_type": "execute_result"
    }
   ],
   "source": [
    "#top 5 popular movies in the last 5 years\n",
    "last_five_years.sort_values(by=['popularity'] , ascending=False).head(5)"
   ]
  },
  {
   "cell_type": "markdown",
   "id": "4f904104",
   "metadata": {},
   "source": [
    "<b>Top 5 most popular movies in the last 5 years:</b>\n",
    "<ol>\n",
    "    <li>Jurassic World</li>\n",
    "    <li>Mad Max: Fury Road</li>\n",
    "    <li>Interstellar</li>\n",
    "    <li>Guardians of the Galaxy</li>\n",
    "    <li>Insurgent</li>\n",
    "    \n",
    "</ol>"
   ]
  },
  {
   "cell_type": "markdown",
   "id": "91e3ac37",
   "metadata": {},
   "source": [
    "<h3>Q3:Does high movie production budget results in high revenues? "
   ]
  },
  {
   "cell_type": "code",
   "execution_count": 23,
   "id": "7388eaa9",
   "metadata": {},
   "outputs": [
    {
     "data": {
      "text/plain": [
       "(22291100.001054052, 61879229.88249824)"
      ]
     },
     "execution_count": 23,
     "metadata": {},
     "output_type": "execute_result"
    }
   ],
   "source": [
    "budget_mean = df['budget'].mean()\n",
    "revenue_mean = df['revenue'].mean()\n",
    "budget_mean ,  revenue_mean"
   ]
  },
  {
   "cell_type": "code",
   "execution_count": 24,
   "id": "f8bae3ab",
   "metadata": {},
   "outputs": [
    {
     "data": {
      "image/png": "[encoded data removed]",
      "text/plain": [
       "<Figure size 432x288 with 1 Axes>"
      ]
     },
     "metadata": {
      "needs_background": "light"
     },
     "output_type": "display_data"
    }
   ],
   "source": [
    "plt.bar(['Average budget' , 'Average revenue'],[budget_mean ,  revenue_mean]);"
   ]
  },
  {
   "cell_type": "markdown",
   "id": "730f2f63",
   "metadata": {},
   "source": [
    "Yes, the chart shows that high budget can result in even higher revenues"
   ]
  },
  {
   "cell_type": "markdown",
   "id": "c24c4b61",
   "metadata": {},
   "source": [
    "<H3>Q4:Average movie revenues in the last 2 years?"
   ]
  },
  {
   "cell_type": "code",
   "execution_count": 25,
   "id": "a7a0eafe",
   "metadata": {},
   "outputs": [],
   "source": [
    "#select last 2 years movies \n",
    "last_two_years = df.query('release_year > 2013')"
   ]
  },
  {
   "cell_type": "code",
   "execution_count": 26,
   "id": "941cdf79",
   "metadata": {},
   "outputs": [
    {
     "data": {
      "text/plain": [
       "64966443.738912165"
      ]
     },
     "execution_count": 26,
     "metadata": {},
     "output_type": "execute_result"
    }
   ],
   "source": [
    "#calculate the mean revenue \n",
    "last_two_years['revenue'].mean()"
   ]
  },
  {
   "cell_type": "markdown",
   "id": "3bd29e82",
   "metadata": {},
   "source": [
    "<h3>Q5:How did movie production budget change from 1999 to 2015 ? "
   ]
  },
  {
   "cell_type": "code",
   "execution_count": 27,
   "id": "390d6980",
   "metadata": {},
   "outputs": [],
   "source": [
    "#select 1999 movies \n",
    "movies1999 = df.query('release_year == 1999')\n",
    "#select 2015 movie\n",
    "movies2015 = df.query('release_year == 2015')"
   ]
  },
  {
   "cell_type": "code",
   "execution_count": 28,
   "id": "e8c1229a",
   "metadata": {},
   "outputs": [
    {
     "data": {
      "text/plain": [
       "(30634181.07511217, 21818956.149374202)"
      ]
     },
     "execution_count": 28,
     "metadata": {},
     "output_type": "execute_result"
    }
   ],
   "source": [
    "budgetMean1999 = movies1999['budget'].mean()\n",
    "budgetMean2015 = movies2015['budget'].mean()\n",
    "budgetMean1999 , budgetMean2015"
   ]
  },
  {
   "cell_type": "code",
   "execution_count": 29,
   "id": "23382214",
   "metadata": {},
   "outputs": [
    {
     "data": {
      "image/png": "[encoded data removed]",
      "text/plain": [
       "<Figure size 432x288 with 1 Axes>"
      ]
     },
     "metadata": {
      "needs_background": "light"
     },
     "output_type": "display_data"
    }
   ],
   "source": [
    "#plot\n",
    "\n",
    "plt.bar(['1999' , '2015'] , [budgetMean1999 ,budgetMean2015 ])\n",
    "plt.title(\"budget change\")\n",
    "plt.xlabel(\"Year\")\n",
    "plt.ylabel(\"budget mean\");\n"
   ]
  },
  {
   "cell_type": "markdown",
   "id": "f787548f",
   "metadata": {},
   "source": [
    "the bar chart shows that the average production budget has decreased from 1999 to 2015"
   ]
  },
  {
   "cell_type": "markdown",
   "id": "045ae5df",
   "metadata": {},
   "source": [
    "<h3>Q6:What genre costs more in producation? "
   ]
  },
  {
   "cell_type": "code",
   "execution_count": 30,
   "id": "2152d38b",
   "metadata": {},
   "outputs": [],
   "source": [
    "# separate genres values into multiple rows\n",
    "split_genres = df[['genres', 'budget']].copy()\n",
    "split_genres['genres'] = split_genres['genres'].str.split('|')\n",
    "split_genres = split_genres.explode('genres')"
   ]
  },
  {
   "cell_type": "code",
   "execution_count": 31,
   "id": "fb658628",
   "metadata": {},
   "outputs": [
    {
     "data": {
      "text/plain": [
       "genres\n",
       "Adventure    4.316077e+07\n",
       "Name: budget, dtype: float64"
      ]
     },
     "execution_count": 31,
     "metadata": {},
     "output_type": "execute_result"
    }
   ],
   "source": [
    "production_mean = split_genres.groupby('genres').budget.mean()\n",
    "production_mean.sort_values(ascending=False).head(1)"
   ]
  },
  {
   "cell_type": "markdown",
   "id": "d1cdb394",
   "metadata": {},
   "source": [
    "`Adventures` movies costs the most."
   ]
  },
  {
   "cell_type": "markdown",
   "id": "77551701",
   "metadata": {},
   "source": [
    "<h2>Conclusions</h2>"
   ]
  },
  {
   "cell_type": "markdown",
   "id": "e1027ce4",
   "metadata": {},
   "source": [
    "<h3>Result:</h3>\n",
    "\n",
    "<ul>\n",
    "    <li>Adveture movies has the highest votes in the last couple years and it is the genre that costs more in production</li>\n",
    "    <li>High movie production budget can result in even higher revenues</li>\n",
    "    <li>Movie revenues in the last couple years reached around `64,966443`</li>\n",
    "    <li>Average movie production budget has declined from 1999 to 2015 with around `10,000000`</li>\n",
    "    <li>Top 5 most popular movies in the last 5 years: Jurassic World , Mad Max:Fury Road , Interstellar , Guardians of the Galaxy , Insurgent</li>\n",
    "</ul>"
   ]
  },
  {
   "cell_type": "markdown",
   "id": "ee30fb35",
   "metadata": {},
   "source": [
    "<h3>Limitations:</h3>\n",
    "\n",
    "<ul>\n",
    "    <li>the numbers for budget and revenue columns lack accuracy and some are missing</li>\n",
    "    <li>the data set contains multiple columns with multivalued columns which makes the analysis very limited.</li>\n",
    "    <li>data set do not provide movie data after 2015</li>\n",
    "    <li>there are a lot of NaN values. </li>\n",
    "</ul>"
   ]
  },
  {
   "cell_type": "markdown",
   "id": "d6dc60cc",
   "metadata": {},
   "source": [
    "\n",
    "<b>websites used for help with this analysis:</b>\n",
    "<ul>\n",
    "    <li><a href='https://stackoverflow.com/questions/47462690/how-to-get-top-5-values-from-pandas-dataframe'>Stack overflow</a></li>\n",
    "    <li><a href='https://sparkbyexamples.com/pandas/pandas-create-new-dataframe-by-selecting-specific-columns/'>SparksBy examples</a></li>\n",
    "    <li><a href='https://pandas.pydata.org/docs/reference/api/pandas.DataFrame.iloc.html'>Pandas documentation</a></li>\n",
    "\n",
    "    \n",
    "</ul>"
   ]
  }
 ],
 "metadata": {
  "kernelspec": {
   "display_name": "Python [conda env:data_analysis1] *",
   "language": "python",
   "name": "conda-env-data_analysis1-py"
  },
  "language_info": {
   "codemirror_mode": {
    "name": "ipython",
    "version": 3
   },
   "file_extension": ".py",
   "mimetype": "text/x-python",
   "name": "python",
   "nbconvert_exporter": "python",
   "pygments_lexer": "ipython3",
   "version": "3.6.13"
  }
 },
 "nbformat": 4,
 "nbformat_minor": 5
}
